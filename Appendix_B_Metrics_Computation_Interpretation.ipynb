{
 "cells": [
  {
   "cell_type": "markdown",
   "id": "6af9a657",
   "metadata": {},
   "source": [
    "# Appendix B — Computation and Interpretation of the Relevant Metrics\n",
    "**Version:** v1.0 — August 28, 2025\n",
    "\n",
    "> This notebook mirrors the Appendix content from the manuscript’s supplementary file. It is intended as a static, citable artifact. Replace placeholders and bracketed notes before archiving (e.g., Zenodo/OSF/Figshare)."
   ]
  },
  {
   "cell_type": "markdown",
   "id": "c17c4ce6",
   "metadata": {},
   "source": [
    "## B.1 Computing the Relevant Metrics\n",
    "This section outlines the reliability coefficients/metrics and formulas referenced in the framework. Metrics are grouped as **individual‑level** vs **systematic‑level** reliability. As there are multiple forms of ICC (ten common variants), ICC formula selection is provided in **B.2**.\n"
   ]
  },
  {
   "cell_type": "markdown",
   "id": "8fc68713",
   "metadata": {},
   "source": [
    "### Appendix Table 1 — Concordance Coefficients and Metrics Used in DHT Analytical Validation (Summary)\n",
    "| Metric | Description | Optimal | Level |\n",
    "|---|---|---:|---|\n",
    "| SW | Shapiro–Wilk normality test | p ≤ 0.05 (reject normality) | Normality |\n",
    "| ρ | Pearson correlation (linear relationship) | ρ ≥ 0.8 (very strong) | Correlation |\n",
    "| CCC | Concordance correlation (agreement) | ≥ 0.95 (substantial) | Individual |\n",
    "| ICC | Intraclass correlation (reproducibility) | ≥ 0.90 (excellent) | Individual |\n",
    "| BA (LoA) | Bland–Altman (bias, LoA vs MCID) | LoA < MCID | Individual/Systematic |\n",
    "| BA (Bias) | Mean bias vs MCID |  | Systematic |\n",
    "| MAPE | Mean absolute percentage error | ≤ 10% (common DHT criterion) | Systematic |\n"
   ]
  },
  {
   "cell_type": "markdown",
   "id": "3f5383cd",
   "metadata": {},
   "source": [
    "### Appendix Table 2 — Formulas (Notation)\n",
    "Let \\(d_i\\) be digital, \\(m_i\\) manual, \\(n\\) samples; \\(\\bar{\\cdot}\\) denotes mean; \\(s(\\cdot)\\) standard deviation.\n",
    "\n",
    "- **Pearson**: \\(\\displaystyle \\rho = \\frac{\\sum_i (d_i-\\bar d)(m_i-\\bar m)}{\\sqrt{\\sum_i(d_i-\\bar d)^2}\\sqrt{\\sum_i(m_i-\\bar m)^2}}\\)\n",
    "- **CCC (Lin)**: \\(\\displaystyle \\rho_c=\\frac{2\\rho\\,\\sigma_d \\sigma_m}{\\sigma_d^2+\\sigma_m^2+(\\bar d-\\bar m)^2}\\)\n",
    "- **MAE**: \\(\\displaystyle \\mathrm{MAE}=\\frac{1}{n}\\sum_i |d_i-m_i|\\)\n",
    "- **RMSE**: \\(\\displaystyle \\mathrm{RMSE}=\\sqrt{\\frac{1}{n}\\sum_i (d_i-m_i)^2}\\)\n",
    "- **MAPE**: \\(\\displaystyle \\mathrm{MAPE}=\\frac{100}{n}\\sum_i \\left|\\frac{d_i-m_i}{m_i}\\right|\\ \\%\\)\n",
    "- **Bland–Altman**: differences \\( \\Delta_i=d_i-m_i\\); bias \\(\\bar{\\Delta}\\); SD \\(s_\\Delta\\); LoA \\( \\bar{\\Delta}\\pm 1.96\\,s_\\Delta\\).\n",
    "- **ICC**: see Selection Guide (B.2); formulas depend on ANOVA mean squares (MSR, MSC, MSE, etc.).\n"
   ]
  },
  {
   "cell_type": "markdown",
   "id": "5089e668",
   "metadata": {},
   "source": [
    "## B.2 ICC Formula Selection\n",
    "ICC selection is a 3‑step process:\n",
    "\n",
    "1) **Model** — one‑way random / two‑way random / two‑way mixed  \n",
    "2) **Type** — single rater vs multiple raters  \n",
    "3) **Definition** — absolute agreement vs consistency\n",
    "\n",
    "- One‑way random: randomly assigned devices/rater.  \n",
    "- Two‑way random: generalize to all similar devices.  \n",
    "- Two‑way mixed: only the specific devices are of interest.  \n",
    "- Single rater: compare against a single criterion method.  \n",
    "- Multiple raters: compare against mean of multiple methods.  \n",
    "- Absolute agreement: tests \\(y \u0007pprox x\\).  \n",
    "- Consistency: tests \\(y \u0007pprox x + c\\) (constant bias tolerated).\n",
    "\n",
    "> When only two raters are present, ICC and CCC often yield similar values.\n"
   ]
  },
  {
   "cell_type": "markdown",
   "id": "e1926273",
   "metadata": {},
   "source": [
    "### Appendix Table 3 — ICC Equation Selection Guide (Schematic)\n",
    "| Type | Model | Definition |\n",
    "|---|---|---|\n",
    "| Single rater | 1‑way random | Agreement / Consistency |\n",
    "| Single rater | 2‑way random | Agreement / Consistency |\n",
    "| Single rater | 2‑way mixed | Agreement / Consistency |\n",
    "| Multiple raters | 1‑way random | Agreement / Consistency |\n",
    "| Multiple raters | 2‑way random | Agreement / Consistency |\n",
    "| Multiple raters | 2‑way mixed | Agreement / Consistency |\n",
    "\n",
    "*MSR = Mean Square Rows; MSC = Mean Square Columns; MSE = Mean Square Error (from ANOVA).*\n"
   ]
  },
  {
   "cell_type": "markdown",
   "id": "4208c6fe",
   "metadata": {},
   "source": [
    "## B.3 Interpretation of Metrics (Example Criteria)\n",
    "- **ρ (Chan)**: <0.3 poor; 0.3–0.6 fair; 0.6–0.8 moderately strong; ≥0.8 very strong.  \n",
    "- **CCC (McBride)**: <0.90 poor; 0.90–0.95 moderate; 0.95–0.99 substantial; ≥0.99 near perfect.  \n",
    "- **ICC (Koo)**: <0.50 poor; 0.50–0.75 moderate; 0.75–0.90 good; ≥0.90 excellent.  \n",
    "- **BA vs MCID (relative)**: LoA < 10% and bias < 10% ⇒ accurate / systematic agreement (example for 6MWD in HF).  \n",
    "- **MAPE (DHT convention)**: ≤10% often used, though no universal standard.\n",
    "\n",
    "> Note: Only BA uses **clinically** derived thresholds (MCID) by design.\n"
   ]
  },
  {
   "cell_type": "markdown",
   "id": "9863ae87",
   "metadata": {},
   "source": [
    "---\n",
    "## Optional: Placeholder Cells (non‑functional)"
   ]
  },
  {
   "cell_type": "code",
   "execution_count": null,
   "id": "c7d466d4",
   "metadata": {},
   "outputs": [],
   "source": [
    "# Placeholder: compute metrics (non-functional)\n",
    "def compute_metrics_placeholder(digital, manual):\n",
    "    \"\"\"Return rho, CCC, ICC, BA (bias/LoA), MAE, RMSE, MAPE, etc.\n",
    "    This is a documentation stub; implement with real data.\"\"\"\n",
    "    raise NotImplementedError(\"Documentation stub only\")"
   ]
  }
 ],
 "metadata": {
  "kernelspec": {
   "display_name": "Python 3",
   "language": "python",
   "name": "python3"
  }
 },
 "nbformat": 4,
 "nbformat_minor": 5
}
