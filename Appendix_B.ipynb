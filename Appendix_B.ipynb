{
 "cells": [
  {
   "cell_type": "markdown",
   "id": "b8c7807a",
   "metadata": {},
   "source": [
    "# Appendix B: Computation and Interpretation of the Relevant Metrics"
   ]
  },
  {
   "cell_type": "markdown",
   "id": "f6249795",
   "metadata": {},
   "source": [
    "Appendix B: Computation and Interpretation of the Relevant Metrics\n",
    "\n",
    "B.1Computing the Relevant Metrics\n",
    "\n",
    "The description of the relevant reliability coefficients and metrics mentioned in the framework, as well as the formulas used to compute these metrics, are outlined in Appendix Table 1 and\n",
    "\n",
    "Appendix Table 2, respectively. As illustrated in Appendix Table 1, we divided the metrics into two different categories: individual reliability and systematic reliability-testing metrics. Individual-level reliability pertains to the reproducibility of measurements on an individual level, whereas systematic-level reliability relates to agreement in measurements at the level of the tested group as a whole. The distinction between individual and systematic-level reliability is described in Appendix A.4. As there are 10 different ways to compute the ICC, its formula selection process is described below.\n",
    "\n",
    "B.2ICC Formula Selection\n",
    "\n",
    "As mentioned in the Section “Error! Reference source not found.”, there are 10 different ways to compute the ICC, and selection of the appropriate formula depends on the study design. ICC formula selection is a three-step process, consisting of model, type, and definition selection.\n",
    "\n",
    "First, model selection pertains to the measurement methods and consists of choosing between three options. A one-way random effects model is used in a study involving multiple different devices randomly assigned to participants (e.g., some participants wearing the Apple Watch, other wearing the Fitbit, all compared to the manual gold standard). A two-way random-effects model is indicated when the aim is to generalize the results to all devices similar to the investigated one (e.g., using an Apple Watch in a study assessing the reliability of commercial smartwatches in general in measuring walking distance). In contrast, a two-way mixed-effects model should be selected when the devices used in the study are the only devices of interest (e.g., using an Apple Watch in a study specifically assessing its reliability in measuring walking distance).\n",
    "\n",
    "After selecting the model, the next step is choosing between two types of ICC: single rater and multiple raters. The single rater method consists of comparing the investigated device’s measurements to a single criterion method (e.g., comparing smartwatch measurements to a manual gold standard), while the multiple raters method consists of comparing the device’s measurements to the mean of multiple raters, or methods of measurements (e.g., investigating the Apple Watch, Fitbit, and Withings Go watches and comparing the Apple Watch to the mean of measurements of all watches).\n",
    "\n",
    "The final step consists of selecting the relevant ICC definition. The absolute agreement ICC tests for perfect agreement between corresponding measurements of different methods (i.e., y = x), whereas the consistency ICC is used to assess the consistency of the systematic bias between methods (i.e., y = x + c, where c is the bias).\n",
    "\n",
    "The consistency ICC is a useful metric in cases of unsatisfactory agreement but constant systematic bias (e.g., a constant overestimation of ≈25m in smartwatch walking distance measurements) to quantify the consistency of the error between measurements.\n",
    "\n",
    "Of note, although the ICC is recommended for quantification of correlation and agreement between three or more devices or measurement methods, it can still be used to compare two methods of measurements. ICC and CCC usually have similar values when only 2 raters are present in the dataset.42 Besides, the ICC can be used to measure repeatability using the Spearman-Brown formula, paired with Bland-Altman analysis conducted with the mean of measurements throughout time (e.g. repeating digital 6MWD measurements daily, computing the mean of all measurements and comparing it to the original mean of one-day measurements)\n",
    "\n",
    "Appendix Table 2 provides the appropriate formula for each combination of the three components of ICC selection.\n",
    "\n",
    "B.3Interpretation of Metrics\n",
    "\n",
    "As mentioned in the Section “Error! Reference source not found.”, we propose a guideline to interpret the results of the computed metrics in Appendix Table 4."
   ]
  }
 ],
 "metadata": {
  "kernelspec": {
   "display_name": "Python 3",
   "language": "python",
   "name": "python3"
  }
 },
 "nbformat": 4,
 "nbformat_minor": 5
}
