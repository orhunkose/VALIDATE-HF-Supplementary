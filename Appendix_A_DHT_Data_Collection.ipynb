{
 "cells": [
  {
   "cell_type": "markdown",
   "id": "c2a461cf",
   "metadata": {},
   "source": [
    "# Appendix A — Important Considerations in DHT Data Collection\n",
    "**Version:** v1.0 — August 28, 2025\n",
    "\n",
    "> This notebook mirrors the Appendix content from the manuscript’s supplementary file. It is intended as a static, citable artifact. Replace placeholders and bracketed notes before archiving (e.g., Zenodo/OSF/Figshare)."
   ]
  },
  {
   "cell_type": "markdown",
   "id": "a6910c63",
   "metadata": {},
   "source": [
    "## Abbreviations (for reference)\n",
    "DHT — Digital health technology; HF — Heart failure; ACC — Accelerometer; 6MWT — 6-Minute walk test; 6MWD — 6-Minute walk distance; BA — Bland–Altman; LoA — Limits of agreement; HRV — Heart rate variability; ICC — Intraclass correlation; CCC — Concordance correlation; MAPE — Mean absolute percentage error; MAE — Mean absolute error; VO2 — Volume oxygen consumption; MCID — Minimal clinically important difference; ρ — Pearson correlation coefficient.\n"
   ]
  },
  {
   "cell_type": "markdown",
   "id": "407e4b94",
   "metadata": {},
   "source": [
    "## A.1 Practical Considerations\n",
    "Standard practices for actigraphy measurements are as important as the reliability assessment itself. To collect accurate and reliable data for actigraphy measurements, researchers should consider cohort limitations (e.g., physical limitations), DHT placement, and the duration of measurement. Validation of actigraphy DHTs may require manual measurement (e.g., 6MWD or step count) or other validated DHTs (sleep quality or activity rate). The first step in validation is ensuring consistency in the measurement setting and data quality.\n",
    "\n",
    "Sampling actigraphy data must report the sampling rate of both the unvalidated DHT and the gold standard to avoid aliasing or undersampling during feature extraction. Inter‑rater/intra‑rater variability and environment (time of day, location) are common sources of error. Robust preprocessing and outlier handling reduce rater‑based errors and clarify device reliability.\n",
    "\n",
    "> Example note: For a given device, changing sampling from 30 Hz to 100 Hz can bias activity counts by **~1,000–3,000 counts/min** (>10% difference), underscoring the need to report sampling configurations.\n"
   ]
  },
  {
   "cell_type": "markdown",
   "id": "1855208f",
   "metadata": {},
   "source": [
    "## A.2 The Difference Between Agreement and Correlation\n",
    "Correlation measures the strength of the linear relationship, while **agreement** measures how closely two methods match **on the same scale**. Variables can be perfectly correlated yet not agree if they differ by scale or offset (e.g., °C vs °F or °C vs K). Thus, a high correlation (e.g., ρ close to 1) is insufficient to prove accuracy. Agreement metrics (e.g., CCC, BA with bias and LoA compared to MCID) are needed when validating a DHT against a gold standard (e.g., smartwatch vs manual 6MWD).\n",
    "\n",
    "**Illustrative idea**: Plot °C vs °F and °C vs K alongside a 45° line (perfect agreement) to show perfect correlation but poor agreement due to offset/scale.\n"
   ]
  },
  {
   "cell_type": "markdown",
   "id": "9d00b1b1",
   "metadata": {},
   "source": [
    "## A.3 Individual‑Level vs Systematic‑Level Reliability\n",
    "- **Individual‑level reliability** (e.g., CCC, ICC, BA LoA): reproducibility for each individual’s paired measurements (device vs gold standard).\n",
    "- **Systematic‑level reliability** (e.g., MAPE; BA bias): group‑level agreement of means across the tested cohort.\n",
    "\n",
    "**Toy example**: Two thermometers measured hourly; individual reliability = similar readings each hour. Systematic reliability = similar **daily means**, even if hourly pairs differ.\n"
   ]
  },
  {
   "cell_type": "markdown",
   "id": "04c794fe",
   "metadata": {},
   "source": [
    "## A.4 Regulatory Considerations (DHTs in Clinical Investigations)\n",
    "FDA guidance emphasizes **fit‑for‑purpose** validation proportional to intended use and interpretability. Key factors: accuracy, reliability, security, target population, and data type. With decentralized clinical trials (DCTs), DHTs can expand access and reduce burden but must still meet regulatory and ethical standards (design, recruitment, monitoring, data integrity)."
   ]
  },
  {
   "cell_type": "markdown",
   "id": "5ee1f4d8",
   "metadata": {},
   "source": [
    "---\n",
    "## Optional: Placeholder Cells (non‑functional)\n",
    "The following stubs document intended computations/figures. They are **not executable** and exist only to describe steps referenced by the manuscript."
   ]
  },
  {
   "cell_type": "code",
   "execution_count": null,
   "id": "50aba584",
   "metadata": {},
   "outputs": [],
   "source": [
    "# Placeholder: visualize correlation vs agreement (non-functional)\n",
    "def plot_agreement_vs_correlation_placeholder():\n",
    "    \"\"\"Create example plots (°C vs °F, °C vs K) with a 45° line.\n",
    "    This is a documentation stub; implement with real data if desired.\"\"\"\n",
    "    raise NotImplementedError(\"Documentation stub only\")"
   ]
  }
 ],
 "metadata": {
  "kernelspec": {
   "display_name": "Python 3",
   "language": "python",
   "name": "python3"
  }
 },
 "nbformat": 4,
 "nbformat_minor": 5
}
