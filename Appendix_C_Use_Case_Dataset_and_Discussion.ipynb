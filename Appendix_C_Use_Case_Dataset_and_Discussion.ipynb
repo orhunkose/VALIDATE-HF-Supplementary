{
 "cells": [
  {
   "cell_type": "markdown",
   "id": "0ec248c7",
   "metadata": {},
   "source": [
    "# Appendix C — Use Case Dataset and Discussion\n",
    "**Version:** v1.0 — August 28, 2025\n",
    "\n",
    "> This notebook mirrors the Appendix content from the manuscript’s supplementary file. It is intended as a static, citable artifact. Replace placeholders and bracketed notes before archiving (e.g., Zenodo/OSF/Figshare)."
   ]
  },
  {
   "cell_type": "markdown",
   "id": "9a87794e",
   "metadata": {},
   "source": [
    "## C.1 Use Case Demographics\n",
    "Prospective case‑control dataset: 1,584 participants (35–79y) completed indoor 6MWT with Apple Watch Series 3 (Indoor Walk mode). Enrollment via Courtois Cardiovascular Signature (CCVS) Program (longitudinal, ~4,000 participants over 10 years). Final sample sizes after outlier exclusion (Q1/Q3 ± 1.5 IQR): HF n=74; CVD non‑HF n=161; Healthy n=1263. HF defined per Bozkurt et al. with NT‑proBNP >125 pg/L or objective evidence of congestion. 6MWT followed ATS guidelines; watch worn on dominant hand; manual time/distance recorded. Ancillary measures: Borg SOB, SpO2, HR, SBP, DBP; height entered for watch calibration.\n"
   ]
  },
  {
   "cell_type": "markdown",
   "id": "c91ca9fa",
   "metadata": {},
   "source": [
    "### Appendix Table 5 — Demographics (as reported)\n",
    "- Participants before outlier exclusion: HF 86; CVD non‑HF 172; Healthy 1326; Total 1584  \n",
    "- Participants after outlier exclusion: HF 74; CVD non‑HF 161; Healthy 1263; Total 1498  \n",
    "- Manual 6MWD (m) mean:median — HF 507:499; CVD 568:564; Healthy 582:582; Total 577:576  \n",
    "- Digital 6MWD (m) mean:median — HF 538:535; CVD 606:620; Healthy 620:620; Total 614:620  \n",
    "- Age mean:median — HF 60:62; CVD 60:61; Healthy 55:55; Total 55:56  \n",
    "- Sex (male:female) — HF 88:72; CVD 57:14; Total 735:812  *(verify per final table formatting)*\n"
   ]
  },
  {
   "cell_type": "markdown",
   "id": "913716f1",
   "metadata": {},
   "source": [
    "## C.2 Correlation and Agreement Plots\n",
    "- Scatter plots of manual (x) vs digital (y) 6MWD per cohort; linear fit with reported ρ values.  \n",
    "- Bland–Altman (relative %) plots per cohort with mean bias and 95% LoA.\n",
    "\n",
    "**Reported biases (illustrative):** HF +5.9% (3.7, 8.1); CVD +6.4% (4.8, 8.0); Healthy +6.3% (5.8, 6.8) — mean bias within ±10% clinical threshold.\n"
   ]
  },
  {
   "cell_type": "markdown",
   "id": "d36aca0e",
   "metadata": {},
   "source": [
    "## C.3 Use Case Interpretation\n",
    "### C.3.1 Interpreting Metrics\n",
    "Moderately strong **correlation** (ρ) across cohorts, but **poor CCC**, highlighting that strong correlation ≠ good agreement. ICC (two‑way mixed, single‑rater, absolute agreement) indicates **moderate** reliability.\n",
    "\n",
    "**MAPE** values <10% suggest acceptable systematic agreement, but values near the threshold warrant caution.\n"
   ]
  },
  {
   "cell_type": "markdown",
   "id": "302024e4",
   "metadata": {},
   "source": [
    "### C.3.2 MCID Selection\n",
    "For 6MWD in HF, a **relative MCID = 10%** provides a disease‑severity‑agnostic threshold. Relative BA bias/differences (%), not absolute meters, better capture clinical relevance across varying 6MWD baselines.\n"
   ]
  },
  {
   "cell_type": "markdown",
   "id": "7a1d9aa7",
   "metadata": {},
   "source": [
    "### C.3.3 Bland–Altman Analysis\n",
    "Bias lines above 0% indicate systematic **overestimation** of 6MWD by the watch. All cohort mean biases and 95% CIs lie within ±10%. Inspect spread for patterns (e.g., increasing absolute differences with greater means) to infer error accumulation behavior.\n"
   ]
  },
  {
   "cell_type": "markdown",
   "id": "384261ee",
   "metadata": {},
   "source": [
    "---\n",
    "## Optional: Placeholder Cells (non‑functional)"
   ]
  },
  {
   "cell_type": "code",
   "execution_count": null,
   "id": "b9678ee6",
   "metadata": {},
   "outputs": [],
   "source": [
    "# Placeholder: plot correlation (non-functional)\n",
    "def plot_correlation_placeholder(manual, digital, cohort_name=\"HF\"):\n",
    "    \"\"\"Scatter + linear fit + rho; documentation stub only.\"\"\"\n",
    "    raise NotImplementedError(\"Documentation stub only\")"
   ]
  },
  {
   "cell_type": "code",
   "execution_count": null,
   "id": "8f23802d",
   "metadata": {},
   "outputs": [],
   "source": [
    "# Placeholder: plot Bland–Altman (non-functional)\n",
    "def plot_bland_altman_placeholder(manual, digital, relative=True, cohort_name=\"HF\"):\n",
    "    \"\"\"Relative BA (%), show bias and LoA; documentation stub only.\"\"\"\n",
    "    raise NotImplementedError(\"Documentation stub only\")"
   ]
  }
 ],
 "metadata": {
  "kernelspec": {
   "display_name": "Python 3",
   "language": "python",
   "name": "python3"
  }
 },
 "nbformat": 4,
 "nbformat_minor": 5
}
